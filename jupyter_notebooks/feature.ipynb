{
 "cells": [
  {
   "cell_type": "markdown",
   "metadata": {},
   "source": [
    "# Import packages and helper functions"
   ]
  },
  {
   "cell_type": "code",
   "execution_count": 1,
   "metadata": {},
   "outputs": [],
   "source": [
    "import pathlib as pl\n",
    "import os\n",
    "os.chdir('/new-stg/home/banghua/Amazon-Rating-Prediction')\n",
    "from load_dataset import load_dataset\n",
    "from tqdm import tqdm\n",
    "import pickle\n",
    "import random\n",
    "random.seed(42)\n",
    "import numpy as np\n",
    "import datetime\n",
    "from statistics import median\n",
    "# from helper_fns import *"
   ]
  },
  {
   "cell_type": "code",
   "execution_count": 2,
   "metadata": {},
   "outputs": [],
   "source": [
    "def get_review_text(entry):\n",
    "    try:\n",
    "        return entry['reviewText']\n",
    "    except KeyError:\n",
    "        return ''\n",
    "\n",
    "\n",
    "def get_review_rating(entry):\n",
    "    try:\n",
    "        return entry['overall']\n",
    "    except KeyError:\n",
    "        return -1\n",
    "    \n",
    "\n",
    "def get_review_time(entry):\n",
    "    try:\n",
    "        return entry['unixReviewTime']\n",
    "    except KeyError:\n",
    "        return -1\n",
    "\n",
    "\n",
    "def get_verified(entry):\n",
    "    try:\n",
    "        return entry['verified']\n",
    "    except KeyError:\n",
    "        return False\n",
    "\n",
    "\n",
    "def get_vote(entry):\n",
    "    try:\n",
    "        return entry['vote']\n",
    "    except KeyError:\n",
    "        return 0\n",
    "    \n",
    "\n",
    "def unix_to_datetime(unix_list):\n",
    "    return [datetime.datetime.fromtimestamp(unix_time) for unix_time in unix_list]\n",
    "\n",
    "\n",
    "def calculate_offset(date, median_date):\n",
    "    delta = date - median_date\n",
    "    years = delta.days // 365\n",
    "    months = (delta.days % 365) // 30\n",
    "    days = (delta.days % 365) % 30\n",
    "    return years + months / 12 + days / 365"
   ]
  },
  {
   "cell_type": "markdown",
   "metadata": {},
   "source": [
    "# Load Dataset"
   ]
  },
  {
   "cell_type": "code",
   "execution_count": 3,
   "metadata": {},
   "outputs": [
    {
     "name": "stdout",
     "output_type": "stream",
     "text": [
      "Loading dataset from /new-stg/home/banghua/Amazon-Rating-Prediction/dataset/train.json.gz...\n",
      "Loading dataset from /new-stg/home/banghua/Amazon-Rating-Prediction/dataset/val.json.gz...\n",
      "Loading dataset from /new-stg/home/banghua/Amazon-Rating-Prediction/dataset/test.json.gz...\n",
      "Number of empty reviewText in train dataset: 2331\n",
      "Number of empty reviewText in val dataset: 702\n",
      "Number of empty reviewText in test dataset: 763\n"
     ]
    }
   ],
   "source": [
    "current_path = pl.Path.cwd()\n",
    "\n",
    "train_path = current_path / 'dataset' / 'train.json.gz'\n",
    "val_path = current_path / 'dataset' / 'val.json.gz'\n",
    "test_path = current_path / 'dataset' / 'test.json.gz'\n",
    "\n",
    "train_dataset = load_dataset(train_path)\n",
    "val_dataset = load_dataset(val_path)\n",
    "test_dataset = load_dataset(test_path)\n",
    "\n",
    "train_dataset_orig_idx = [i for i in range(len(train_dataset))]\n",
    "val_dataset_orig_idx = [i for i in range(len(val_dataset))]\n",
    "test_dataset_orig_idx = [i for i in range(len(test_dataset))]\n",
    "\n",
    "# Get indices of entries with empty reviewText\n",
    "empty_train_indices = [i for i, entry in enumerate(train_dataset) if get_review_text(entry) == '']\n",
    "empty_val_indices = [i for i, entry in enumerate(val_dataset) if get_review_text(entry) == '']\n",
    "empty_test_indices = [i for i, entry in enumerate(test_dataset) if get_review_text(entry) == '']\n",
    "\n",
    "print('Number of empty reviewText in train dataset:', len(empty_train_indices))\n",
    "print('Number of empty reviewText in val dataset:', len(empty_val_indices))\n",
    "print('Number of empty reviewText in test dataset:', len(empty_test_indices))"
   ]
  },
  {
   "cell_type": "markdown",
   "metadata": {},
   "source": [
    "# Load results from fine-tuned BERT model"
   ]
  },
  {
   "cell_type": "code",
   "execution_count": 4,
   "metadata": {},
   "outputs": [],
   "source": [
    "os.chdir(\"/new-stg/home/banghua/Amazon-Rating-Prediction/best_model/trainer_pred_results\")\n",
    "\n",
    "with open('test_output_obj.pkl', 'rb') as f:\n",
    "    test_output_obj = pickle.load(f)\n",
    "\n",
    "with open('train_output_obj.pkl', 'rb') as f:\n",
    "    train_output_obj = pickle.load(f)\n",
    "\n",
    "with open('valid_output_obj.pkl', 'rb') as f:\n",
    "    valid_output_obj = pickle.load(f)"
   ]
  },
  {
   "cell_type": "markdown",
   "metadata": {},
   "source": [
    "# Get features (review rating, review time, review verified, review vote)"
   ]
  },
  {
   "cell_type": "code",
   "execution_count": 5,
   "metadata": {},
   "outputs": [],
   "source": [
    "# Dataset with empty reviewText removed\n",
    "train_dataset = [train_dataset[i] for i in range(len(train_dataset)) if i not in empty_train_indices]\n",
    "val_dataset = [val_dataset[i] for i in range(len(val_dataset)) if i not in empty_val_indices]\n",
    "test_dataset = [test_dataset[i] for i in range(len(test_dataset)) if i not in empty_test_indices]\n",
    "\n",
    "# Get all labels from the test set\n",
    "train_labels = [get_review_rating(train_dataset[i]) for i in range(len(train_dataset))]\n",
    "val_labels = [get_review_rating(val_dataset[i]) for i in range(len(val_dataset))]\n",
    "test_labels = [get_review_rating(test_dataset[i]) for i in range(len(test_dataset))]\n",
    "\n",
    "train_times = [get_review_time(train_dataset[i]) for i in range(len(train_dataset))]\n",
    "val_times = [get_review_time(val_dataset[i]) for i in range(len(val_dataset))]\n",
    "test_times = [get_review_time(test_dataset[i]) for i in range(len(test_dataset))]\n",
    "\n",
    "train_verified = [get_verified(train_dataset[i]) for i in range(len(train_dataset))]\n",
    "val_verified = [get_verified(val_dataset[i]) for i in range(len(val_dataset))]\n",
    "test_verified = [get_verified(test_dataset[i]) for i in range(len(test_dataset))]\n",
    "\n",
    "train_vote = [get_vote(train_dataset[i]) for i in range(len(train_dataset))]\n",
    "val_vote = [get_vote(val_dataset[i]) for i in range(len(val_dataset))]\n",
    "test_vote = [get_vote(test_dataset[i]) for i in range(len(test_dataset))]"
   ]
  },
  {
   "cell_type": "markdown",
   "metadata": {},
   "source": [
    "# Process review times"
   ]
  },
  {
   "cell_type": "code",
   "execution_count": 6,
   "metadata": {},
   "outputs": [],
   "source": [
    "# Convert Unix timestamps to datetime objects\n",
    "datetimes_train = unix_to_datetime(train_times)\n",
    "\n",
    "# Find the median datetime\n",
    "median_datetime_train = datetime.datetime.fromtimestamp(median(train_times))\n",
    "\n",
    "# Calculate offsets\n",
    "offsets_train = [calculate_offset(date, median_datetime_train) for date in datetimes_train]\n",
    "offsets_val = [calculate_offset(date, median_datetime_train) for date in unix_to_datetime(val_times)]\n",
    "offsets_test = [calculate_offset(date, median_datetime_train) for date in unix_to_datetime(test_times)]"
   ]
  },
  {
   "cell_type": "markdown",
   "metadata": {},
   "source": [
    "# Verify the orders are consistent"
   ]
  },
  {
   "cell_type": "code",
   "execution_count": 7,
   "metadata": {},
   "outputs": [],
   "source": [
    "for i in range(len(train_labels)):\n",
    "    assert int(train_labels[i]-1) == train_output_obj[\"labels\"][i]\n",
    "\n",
    "for i in range(len(val_labels)):\n",
    "    assert int(val_labels[i]-1) == valid_output_obj[\"labels\"][i]\n",
    "\n",
    "for i in range(len(test_labels)):\n",
    "    assert int(test_labels[i]-1) == test_output_obj[\"labels\"][i]"
   ]
  },
  {
   "cell_type": "code",
   "execution_count": 8,
   "metadata": {},
   "outputs": [],
   "source": [
    "def get_features(entry_idx: int, dataset: str, include_time=True, include_text=True, include_verified=True, include_votes=True):\n",
    "    features = []\n",
    "    if dataset == \"train\":\n",
    "        if include_time:\n",
    "            features.append(np.float32(offsets_train[entry_idx]))\n",
    "        if include_text:\n",
    "            features.extend(train_output_obj[\"preds\"][entry_idx])\n",
    "        if include_verified:\n",
    "            features.append(np.float32(train_verified[entry_idx]))\n",
    "        if include_votes:\n",
    "            vote = str(train_vote[entry_idx]).replace(',', '')\n",
    "            features.append(np.float32(min(int(vote), 10)))\n",
    "    elif dataset == \"val\":\n",
    "        if include_time:\n",
    "            features.append(np.float32(offsets_val[entry_idx]))\n",
    "        if include_text:\n",
    "            features.extend(valid_output_obj[\"preds\"][entry_idx])\n",
    "        if include_verified:\n",
    "            features.append(np.float32(val_verified[entry_idx]))\n",
    "        if include_votes:\n",
    "            vote = str(val_vote[entry_idx]).replace(',', '')\n",
    "            features.append(np.float32(min(int(vote), 10)))\n",
    "    elif dataset == \"test\":\n",
    "        if include_time:\n",
    "            features.append(np.float32(offsets_test[entry_idx]))\n",
    "        if include_text:\n",
    "            features.extend(test_output_obj[\"preds\"][entry_idx])\n",
    "        if include_verified:\n",
    "            features.append(np.float32(test_verified[entry_idx]))\n",
    "        if include_votes:\n",
    "            vote = str(test_vote[entry_idx]).replace(',', '')\n",
    "            features.append(np.float32(min(int(vote), 10)))\n",
    "    else:\n",
    "        raise ValueError(\"Invalid dataset\")\n",
    "    return features"
   ]
  },
  {
   "cell_type": "code",
   "execution_count": 9,
   "metadata": {},
   "outputs": [
    {
     "name": "stderr",
     "output_type": "stream",
     "text": [
      "100%|████████████████████████████████████████████████████████████████████████████████████████████████| 3923158/3923158 [00:23<00:00, 169128.69it/s]\n",
      "100%|████████████████████████████████████████████████████████████████████████████████████████████████| 1307795/1307795 [00:07<00:00, 180213.90it/s]\n",
      "100%|████████████████████████████████████████████████████████████████████████████████████████████████| 1307734/1307734 [00:07<00:00, 179857.65it/s]\n"
     ]
    }
   ],
   "source": [
    "train_all_features = np.array([get_features(i, \"train\") for i in tqdm(range(len(train_dataset)))])\n",
    "val_all_features = np.array([get_features(i, \"val\") for i in tqdm(range(len(val_dataset)))])\n",
    "test_all_features = np.array([get_features(i, \"test\") for i in tqdm(range(len(test_dataset)))])"
   ]
  },
  {
   "cell_type": "markdown",
   "metadata": {},
   "source": [
    "# Logistic Regression (Regression)"
   ]
  },
  {
   "cell_type": "code",
   "execution_count": 10,
   "metadata": {},
   "outputs": [],
   "source": [
    "from sklearn.linear_model import LinearRegression, LogisticRegression\n",
    "from sklearn.metrics import mean_squared_error, mean_absolute_error, accuracy_score, confusion_matrix\n",
    "from sklearn.preprocessing import StandardScaler\n",
    "\n",
    "def round_y_preds(y_preds):\n",
    "    return [min(5, max(1, round(y_pred))) for y_pred in y_preds]\n",
    "\n",
    "def train_regression_model(include_scaler, train_features, train_labels, val_features, val_labels, test_features, test_labels, model_name, scaler=None):\n",
    "    if include_scaler:\n",
    "        if scaler is None:\n",
    "            scaler = StandardScaler()\n",
    "            scaler.fit(train_features)\n",
    "        train_features = scaler.transform(train_features)\n",
    "        val_features = scaler.transform(val_features)\n",
    "        test_features = scaler.transform(test_features)\n",
    "    if model_name == \"linear\":\n",
    "        model = LinearRegression()\n",
    "    elif model_name == \"logistic\":\n",
    "        model = LogisticRegression(solver='lbfgs', multi_class='multinomial', max_iter=1000)\n",
    "    model.fit(train_features, train_labels)\n",
    "    train_preds = model.predict(train_features)\n",
    "    val_preds = model.predict(val_features)\n",
    "    test_preds = model.predict(test_features)\n",
    "    if model_name == \"linear\":\n",
    "        train_mse = mean_squared_error(train_labels, train_preds)\n",
    "        val_mse = mean_squared_error(val_labels, val_preds)\n",
    "        test_mse = mean_squared_error(test_labels, test_preds)\n",
    "        print(f\"Training MSE: {train_mse}\")\n",
    "        print(f\"Validation MSE: {val_mse}\")\n",
    "        print(f\"Test MSE: {test_mse}\")\n",
    "        train_preds = round_y_preds(train_preds)\n",
    "        val_preds = round_y_preds(val_preds)\n",
    "        test_preds = round_y_preds(test_preds)\n",
    "    train_acc = accuracy_score(train_labels, train_preds)\n",
    "    val_acc = accuracy_score(val_labels, val_preds)\n",
    "    test_acc = accuracy_score(test_labels, test_preds)\n",
    "    print(\"--------------------\")\n",
    "    print(f\"Training accuracy: {train_acc}\")\n",
    "    print(f\"Validation accuracy: {val_acc}\")\n",
    "    print(f\"Test accuracy: {test_acc}\")\n",
    "    print(\"--------------------\")\n",
    "    return model, scaler\n",
    "\n",
    "def evaluate_linear_model(model, scaler, features, labels, model_type):\n",
    "    if scaler is not None:\n",
    "        features = scaler.transform(features)\n",
    "    preds = model.predict(features)\n",
    "    if model_type == \"linear\":\n",
    "        mse = mean_squared_error(labels, preds)\n",
    "        preds = round_y_preds(preds)\n",
    "    else:\n",
    "        mse = -1\n",
    "    acc = accuracy_score(labels, preds)\n",
    "    cm = confusion_matrix(labels, preds)\n",
    "    print(f\"MSE: {mse}\", f\"Accuracy: {acc}\")\n",
    "    return mse, acc, cm"
   ]
  },
  {
   "cell_type": "markdown",
   "metadata": {},
   "source": [
    "# Linear Regression & Logistic Regression (Full features)"
   ]
  },
  {
   "cell_type": "code",
   "execution_count": 11,
   "metadata": {},
   "outputs": [
    {
     "name": "stdout",
     "output_type": "stream",
     "text": [
      "Linear model without scaler\n",
      "Training MSE: 0.3306249337996686\n",
      "Validation MSE: 0.33061870677231386\n",
      "Test MSE: 0.2915850567680883\n",
      "--------------------\n",
      "Training accuracy: 0.7384596796764239\n",
      "Validation accuracy: 0.7385584132069629\n",
      "Test accuracy: 0.7499070911974454\n",
      "--------------------\n",
      "MSE: 0.2915850567680883 Accuracy: 0.7499070911974454\n",
      "\n",
      "Linear model with scaler\n",
      "Training MSE: 0.33062248157595314\n",
      "Validation MSE: 0.3306188350999387\n",
      "Test MSE: 0.2915821339758974\n",
      "--------------------\n",
      "Training accuracy: 0.7383465055447678\n",
      "Validation accuracy: 0.7384490688525343\n",
      "Test accuracy: 0.7497793893865267\n",
      "--------------------\n",
      "MSE: 0.2915821339758974 Accuracy: 0.7497793893865267\n",
      "\n",
      "Logistic model without scaler\n",
      "--------------------\n",
      "Training accuracy: 0.7944938745775725\n",
      "Validation accuracy: 0.7945878367787\n",
      "Test accuracy: 0.8067359264192872\n",
      "--------------------\n",
      "MSE: -1 Accuracy: 0.8067359264192872\n",
      "\n",
      "Logistic model with scaler\n",
      "--------------------\n",
      "Training accuracy: 0.7944877570569424\n",
      "Validation accuracy: 0.7945916600078758\n",
      "Test accuracy: 0.8067405145083022\n",
      "--------------------\n",
      "MSE: -1 Accuracy: 0.8067405145083022\n"
     ]
    }
   ],
   "source": [
    "print(\"Linear model without scaler\")\n",
    "model_linear_no_scaler, _ = train_regression_model(False, train_all_features, train_labels, val_all_features, val_labels, test_all_features, test_labels, \"linear\")\n",
    "mse_linear_no_scaler, acc_linear_no_scaler, cm_linear_no_scaler =\\\n",
    "    evaluate_linear_model(model_linear_no_scaler, _, test_all_features, test_labels, \"linear\")\n",
    "\n",
    "print(\"\\nLinear model with scaler\")\n",
    "model_linear_scaler, scaler_linear = train_regression_model(True, train_all_features, train_labels, val_all_features, val_labels, test_all_features, test_labels, \"linear\")\n",
    "mse_linear_scaler, acc_linear_scaler, cm_linear_scaler =\\\n",
    "    evaluate_linear_model(model_linear_scaler, scaler_linear, test_all_features, test_labels, \"linear\")\n",
    "\n",
    "print(\"\\nLogistic model without scaler\")\n",
    "model_logistic_no_scaler, _ = train_regression_model(False, train_all_features, train_labels, val_all_features, val_labels, test_all_features, test_labels, \"logistic\")\n",
    "mse_logistic_no_scaler, acc_logistic_no_scaler, cm_logistic_no_scaler =\\\n",
    "    evaluate_linear_model(model_logistic_no_scaler, _, test_all_features, test_labels, \"logistic\")\n",
    "\n",
    "print(\"\\nLogistic model with scaler\")\n",
    "model_logistic_scaler, scaler_logistic = train_regression_model(True, train_all_features, train_labels, val_all_features, val_labels, test_all_features, test_labels, \"logistic\")\n",
    "mse_logistic_scaler, acc_logistic_scaler, cm_logistic_scaler =\\\n",
    "    evaluate_linear_model(model_logistic_scaler, scaler_logistic, test_all_features, test_labels, \"logistic\")"
   ]
  },
  {
   "cell_type": "markdown",
   "metadata": {},
   "source": [
    "# Linear Regression & Logistic Regression (NO Text)"
   ]
  },
  {
   "cell_type": "code",
   "execution_count": 12,
   "metadata": {},
   "outputs": [
    {
     "name": "stderr",
     "output_type": "stream",
     "text": [
      "100%|████████████████████████████████████████████████████████████████████████████████████████████████| 3923158/3923158 [00:15<00:00, 248463.30it/s]\n",
      "100%|████████████████████████████████████████████████████████████████████████████████████████████████| 1307795/1307795 [00:06<00:00, 215165.66it/s]\n",
      "100%|████████████████████████████████████████████████████████████████████████████████████████████████| 1307734/1307734 [00:06<00:00, 208186.05it/s]\n"
     ]
    },
    {
     "name": "stdout",
     "output_type": "stream",
     "text": [
      "Linear Model without text features\n",
      "Training MSE: 1.7886272094227482\n",
      "Validation MSE: 1.7886351665692464\n",
      "Test MSE: 1.7881832017971495\n",
      "--------------------\n",
      "Training accuracy: 0.12914697802127775\n",
      "Validation accuracy: 0.1286157234123085\n",
      "Test accuracy: 0.12928546631042703\n",
      "--------------------\n",
      "MSE: 1.7881832017971495 Accuracy: 0.12928546631042703\n",
      "\\Logistic Model without text features\n"
     ]
    },
    {
     "name": "stdout",
     "output_type": "stream",
     "text": [
      "--------------------\n",
      "Training accuracy: 0.6363921616208167\n",
      "Validation accuracy: 0.6373659480270226\n",
      "Test accuracy: 0.6358647859580007\n",
      "--------------------\n",
      "MSE: -1 Accuracy: 0.6358647859580007\n"
     ]
    }
   ],
   "source": [
    "train_wo_text = np.array([get_features(i, \"train\", include_text=False) for i in tqdm(range(len(train_dataset)))])\n",
    "val_wo_text = np.array([get_features(i, \"val\", include_text=False) for i in tqdm(range(len(val_dataset)))])\n",
    "test_wo_text = np.array([get_features(i, \"test\", include_text=False) for i in tqdm(range(len(test_dataset)))])\n",
    "\n",
    "print(\"Linear Model without text features\")\n",
    "model_linear_no_text, _ = train_regression_model(False, train_wo_text, train_labels, val_wo_text, val_labels, test_wo_text, test_labels, \"linear\")\n",
    "mse_linear_no_text, acc_linear_no_text, cm_linear_no_text =\\\n",
    "    evaluate_linear_model(model_linear_no_text, _, test_wo_text, test_labels, \"linear\")\n",
    "\n",
    "print(\"\\Logistic Model without text features\")\n",
    "model_logistic_no_text, _ = train_regression_model(False, train_wo_text, train_labels, val_wo_text, val_labels, test_wo_text, test_labels, \"logistic\")\n",
    "mse_logistic_no_text, acc_logistic_no_text, cm_logistic_no_text =\\\n",
    "    evaluate_linear_model(model_logistic_no_text, _, test_wo_text, test_labels, \"logistic\")"
   ]
  },
  {
   "cell_type": "markdown",
   "metadata": {},
   "source": [
    "# Linear Regression & Logistic Regression (NO Time)"
   ]
  },
  {
   "cell_type": "code",
   "execution_count": 14,
   "metadata": {},
   "outputs": [
    {
     "name": "stderr",
     "output_type": "stream",
     "text": [
      "100%|████████████████████████████████████████████████████████████████████████████████████████████████| 3923158/3923158 [00:23<00:00, 169030.51it/s]\n",
      "100%|████████████████████████████████████████████████████████████████████████████████████████████████| 1307795/1307795 [00:07<00:00, 180941.19it/s]\n",
      "100%|████████████████████████████████████████████████████████████████████████████████████████████████| 1307734/1307734 [00:03<00:00, 421325.82it/s]\n"
     ]
    },
    {
     "name": "stdout",
     "output_type": "stream",
     "text": [
      "Linear Model without time features\n",
      "Training MSE: 0.330719028480175\n",
      "Validation MSE: 0.33072174006274396\n",
      "Test MSE: 0.29168967942794477\n",
      "--------------------\n",
      "Training accuracy: 0.7383740343876031\n",
      "Validation accuracy: 0.7384383638108419\n",
      "Test accuracy: 0.7498558575367773\n",
      "--------------------\n",
      "MSE: 0.29168967942794477 Accuracy: 0.7498558575367773\n",
      "\n",
      "Logistic Model without time features\n",
      "--------------------\n",
      "Training accuracy: 0.7943733084418216\n",
      "Validation accuracy: 0.7944876681742934\n",
      "Test accuracy: 0.8065676964887355\n",
      "--------------------\n",
      "MSE: -1 Accuracy: 0.8065676964887355\n"
     ]
    }
   ],
   "source": [
    "train_wo_time = np.array([get_features(i, \"train\", include_time=False) for i in tqdm(range(len(train_dataset)))])\n",
    "val_wo_time = np.array([get_features(i, \"val\", include_time=False) for i in tqdm(range(len(val_dataset)))])\n",
    "test_wo_time = np.array([get_features(i, \"test\", include_time=False) for i in tqdm(range(len(test_dataset)))])\n",
    "\n",
    "print(\"Linear Model without time features\")\n",
    "model_linear_no_time, _ = train_regression_model(False, train_wo_time, train_labels, val_wo_time, val_labels, test_wo_time, test_labels, \"linear\")\n",
    "mse_linear_no_time, acc_linear_no_time, cm_linear_no_time =\\\n",
    "    evaluate_linear_model(model_linear_no_time, _, test_wo_time, test_labels, \"linear\")\n",
    "\n",
    "print(\"\\nLogistic Model without time features\")\n",
    "model_logistic_no_time, _ = train_regression_model(False, train_wo_time, train_labels, val_wo_time, val_labels, test_wo_time, test_labels, \"logistic\")\n",
    "mse_logistic_no_time, acc_logistic_no_time, cm_logistic_no_time =\\\n",
    "    evaluate_linear_model(model_logistic_no_time, _, test_wo_time, test_labels, \"logistic\")"
   ]
  },
  {
   "cell_type": "markdown",
   "metadata": {},
   "source": [
    "# Linear Regression & Logistic Regression (NO Verified)"
   ]
  },
  {
   "cell_type": "code",
   "execution_count": 15,
   "metadata": {},
   "outputs": [
    {
     "name": "stderr",
     "output_type": "stream",
     "text": [
      "  0%|                                                                                                                  | 0/3923158 [00:00<?, ?it/s]"
     ]
    },
    {
     "name": "stderr",
     "output_type": "stream",
     "text": [
      "100%|████████████████████████████████████████████████████████████████████████████████████████████████| 3923158/3923158 [00:22<00:00, 171421.33it/s]\n",
      "100%|████████████████████████████████████████████████████████████████████████████████████████████████| 1307795/1307795 [00:08<00:00, 157611.57it/s]\n",
      "100%|████████████████████████████████████████████████████████████████████████████████████████████████| 1307734/1307734 [00:10<00:00, 120633.08it/s]\n"
     ]
    },
    {
     "name": "stdout",
     "output_type": "stream",
     "text": [
      "Linear Model without verified features\n",
      "Training MSE: 0.33078270959805434\n",
      "Validation MSE: 0.33075959327001137\n",
      "Test MSE: 0.29169251833932586\n",
      "--------------------\n",
      "Training accuracy: 0.7385567953164262\n",
      "Validation accuracy: 0.7386325838529739\n",
      "Test accuracy: 0.749974383169666\n",
      "--------------------\n",
      "MSE: 0.29169251833932586 Accuracy: 0.749974383169666\n",
      "\n",
      "Logistic Model without verified features\n",
      "--------------------\n",
      "Training accuracy: 0.794406954805287\n",
      "Validation accuracy: 0.794527429757722\n",
      "Test accuracy: 0.8066411059129762\n",
      "--------------------\n",
      "MSE: -1 Accuracy: 0.8066411059129762\n"
     ]
    }
   ],
   "source": [
    "train_wo_verified = np.array([get_features(i, \"train\", include_verified=False) for i in tqdm(range(len(train_dataset)))])\n",
    "val_wo_verified = np.array([get_features(i, \"val\", include_verified=False) for i in tqdm(range(len(val_dataset)))])\n",
    "test_wo_verified = np.array([get_features(i, \"test\", include_verified=False) for i in tqdm(range(len(test_dataset)))])\n",
    "\n",
    "print(\"Linear Model without verified features\")\n",
    "model_linear_no_verified, _ = train_regression_model(False, train_wo_verified, train_labels, val_wo_verified, val_labels, test_wo_verified, test_labels, \"linear\")\n",
    "mse_linear_no_verified, acc_linear_no_verified, cm_linear_no_verified =\\\n",
    "    evaluate_linear_model(model_linear_no_verified, _, test_wo_verified, test_labels, \"linear\")\n",
    "\n",
    "print(\"\\nLogistic Model without verified features\")\n",
    "model_logistic_no_verified, _ = train_regression_model(False, train_wo_verified, train_labels, val_wo_verified, val_labels, test_wo_verified, test_labels, \"logistic\")\n",
    "mse_logistic_no_verified, acc_logistic_no_verified, cm_logistic_no_verified =\\\n",
    "    evaluate_linear_model(model_logistic_no_verified, _, test_wo_verified, test_labels, \"logistic\")"
   ]
  },
  {
   "cell_type": "markdown",
   "metadata": {},
   "source": [
    "# Linear Regression & Logistic Regression (NO Vote)"
   ]
  },
  {
   "cell_type": "code",
   "execution_count": 16,
   "metadata": {},
   "outputs": [
    {
     "name": "stderr",
     "output_type": "stream",
     "text": [
      "100%|████████████████████████████████████████████████████████████████████████████████████████████████| 3923158/3923158 [00:17<00:00, 221584.33it/s]\n",
      "100%|████████████████████████████████████████████████████████████████████████████████████████████████| 1307795/1307795 [00:06<00:00, 196165.49it/s]\n",
      "100%|████████████████████████████████████████████████████████████████████████████████████████████████| 1307734/1307734 [00:06<00:00, 200643.29it/s]\n"
     ]
    },
    {
     "name": "stdout",
     "output_type": "stream",
     "text": [
      "Linear Model without votes features\n",
      "Training MSE: 0.3308882060345776\n",
      "Validation MSE: 0.3308626663495693\n",
      "Test MSE: 0.29174843472599965\n",
      "--------------------\n",
      "Training accuracy: 0.7385746380849305\n",
      "Validation accuracy: 0.7387832190825014\n",
      "Test accuracy: 0.7500409104603841\n",
      "--------------------\n",
      "MSE: 0.29174843472599965 Accuracy: 0.7500409104603841\n",
      "\n",
      "Logistic Model without votes features\n",
      "--------------------\n",
      "Training accuracy: 0.7939603757992924\n",
      "Validation accuracy: 0.79410228667337\n",
      "Test accuracy: 0.806211354908567\n",
      "--------------------\n",
      "MSE: -1 Accuracy: 0.806211354908567\n"
     ]
    }
   ],
   "source": [
    "train_wo_votes = np.array([get_features(i, \"train\", include_votes=False) for i in tqdm(range(len(train_dataset)))])\n",
    "val_wo_votes = np.array([get_features(i, \"val\", include_votes=False) for i in tqdm(range(len(val_dataset)))])\n",
    "test_wo_votes = np.array([get_features(i, \"test\", include_votes=False) for i in tqdm(range(len(test_dataset)))])\n",
    "\n",
    "print(\"Linear Model without votes features\")\n",
    "model_linear_no_votes, _ = train_regression_model(False, train_wo_votes, train_labels, val_wo_votes, val_labels, test_wo_votes, test_labels, \"linear\")\n",
    "mse_linear_no_votes, acc_linear_no_votes, cm_linear_no_votes =\\\n",
    "    evaluate_linear_model(model_linear_no_votes, _, test_wo_votes, test_labels, \"linear\")\n",
    "\n",
    "print(\"\\nLogistic Model without votes features\")\n",
    "model_logistic_no_votes, _ = train_regression_model(False, train_wo_votes, train_labels, val_wo_votes, val_labels, test_wo_votes, test_labels, \"logistic\")\n",
    "mse_logistic_no_votes, acc_logistic_no_votes, cm_logistic_no_votes =\\\n",
    "    evaluate_linear_model(model_logistic_no_votes, _, test_wo_votes, test_labels, \"logistic\")"
   ]
  },
  {
   "cell_type": "markdown",
   "metadata": {},
   "source": [
    "# Simple Neural Network"
   ]
  },
  {
   "cell_type": "code",
   "execution_count": 17,
   "metadata": {},
   "outputs": [
    {
     "name": "stderr",
     "output_type": "stream",
     "text": [
      "/new-stg/home/banghua/anaconda3/envs/LLM/lib/python3.10/site-packages/tqdm/auto.py:21: TqdmWarning: IProgress not found. Please update jupyter and ipywidgets. See https://ipywidgets.readthedocs.io/en/stable/user_install.html\n",
      "  from .autonotebook import tqdm as notebook_tqdm\n"
     ]
    }
   ],
   "source": [
    "# Simple Neural Network\n",
    "import torch\n",
    "import torch.nn as nn\n",
    "import torch.nn.functional as F\n",
    "import torch.optim as optim\n",
    "from torch.utils.data import TensorDataset, DataLoader\n",
    "from balanced_loss import Loss\n",
    "\n",
    "train_labels_nn = [int(label-1) for label in train_labels]\n",
    "val_labels_nn = [int(label-1) for label in val_labels]\n",
    "test_labels_nn = [int(label-1) for label in test_labels]\n",
    "\n",
    "# Samples per class\n",
    "samples_per_class = [0] * 5\n",
    "for entry in train_labels_nn:\n",
    "    samples_per_class[entry] += 1\n",
    "\n",
    "# Focal Loss\n",
    "focal_loss = Loss(\n",
    "    loss_type=\"focal_loss\",\n",
    "    samples_per_class=samples_per_class,\n",
    "    class_balanced=True\n",
    ")"
   ]
  },
  {
   "cell_type": "code",
   "execution_count": 18,
   "metadata": {},
   "outputs": [],
   "source": [
    "class SimpleNN(nn.Module):\n",
    "    def __init__(self, input_dim, hidden_dim, output_dim):\n",
    "        super(SimpleNN, self).__init__()\n",
    "        self.fc1 = nn.Linear(input_dim, hidden_dim)\n",
    "        self.fc2 = nn.Linear(hidden_dim, output_dim)\n",
    "        # self.dropout = nn.Dropout(0.2)\n",
    "\n",
    "    def forward(self, x):\n",
    "        # x = self.dropout(F.relu(self.fc1(x)))\n",
    "        x = F.relu(self.fc1(x))\n",
    "        x = self.fc2(x)\n",
    "        return x\n",
    "\n",
    "def train_nn_model(train_features, train_labels, val_features, val_labels, test_features, test_labels):\n",
    "    model = SimpleNN(train_features.shape[1], 100, 5).cuda()\n",
    "    criterion = focal_loss\n",
    "    optimizer = optim.Adam(model.parameters(), lr=0.0005)\n",
    "    train_features = torch.from_numpy(train_features).cuda()\n",
    "    train_labels = torch.from_numpy(np.array(train_labels)).cuda()\n",
    "    val_features = torch.from_numpy(val_features).cuda()\n",
    "    val_labels = torch.from_numpy(np.array(val_labels)).cuda()\n",
    "    test_features = torch.from_numpy(test_features).cuda()\n",
    "    test_labels = torch.from_numpy(np.array(test_labels)).cuda()\n",
    "    train_dataset = TensorDataset(train_features, train_labels)\n",
    "    val_dataset = TensorDataset(val_features, val_labels)\n",
    "    test_dataset = TensorDataset(test_features, test_labels)\n",
    "    train_loader = DataLoader(train_dataset, batch_size=2048, shuffle=True)\n",
    "    val_loader = DataLoader(val_dataset, batch_size=2048, shuffle=False)\n",
    "    test_loader = DataLoader(test_dataset, batch_size=2048, shuffle=False)\n",
    "\n",
    "    for epoch in range(10):\n",
    "        model.train()\n",
    "        train_loss = 0\n",
    "        train_preds, train_targets = [], []\n",
    "        for batch_idx, (data, target) in enumerate(train_loader):\n",
    "            optimizer.zero_grad()\n",
    "            output = model(data.float())\n",
    "            preds = output.argmax(dim=1).cpu().tolist()\n",
    "            train_preds.extend(preds)\n",
    "            train_targets.extend(target.cpu().tolist())\n",
    "            loss = criterion(output, target.long())\n",
    "            loss.backward()\n",
    "            optimizer.step()\n",
    "            train_loss += loss.item()\n",
    "        train_loss /= len(train_loader)\n",
    "        train_acc = accuracy_score(train_targets, train_preds)\n",
    "        print(f\"Epoch: {epoch}, Training Loss: {train_loss}\", f\"Training Accuracy: {train_acc}\")\n",
    "        model.eval()\n",
    "        val_loss = 0\n",
    "        val_preds, val_targets = [], []\n",
    "        for batch_idx, (data, target) in enumerate(val_loader):\n",
    "            output = model(data.float())\n",
    "            preds = output.argmax(dim=1).cpu().tolist()\n",
    "            val_preds.extend(preds)\n",
    "            val_targets.extend(target.cpu().tolist())\n",
    "            loss = criterion(output, target.long())\n",
    "            val_loss += loss.item()\n",
    "        val_loss /= len(val_loader)\n",
    "        print(f\"Epoch: {epoch}, Validation Loss: {val_loss}\")\n",
    "        val_acc = accuracy_score(val_targets, val_preds)\n",
    "        print(f\"Epoch: {epoch}, Validation Accuracy: {val_acc}\")\n",
    "    model.eval()\n",
    "    test_loss = 0\n",
    "    test_preds, test_targets = [], []\n",
    "    for batch_idx, (data, target) in enumerate(test_loader):\n",
    "        output = model(data.float())\n",
    "        loss = criterion(output, target.long())\n",
    "        test_loss += loss.item()\n",
    "        test_preds.extend(output.argmax(dim=1).tolist())\n",
    "        test_targets.extend(target.tolist())\n",
    "    test_loss /= len(test_loader)\n",
    "    print(f\"Test Loss: {test_loss}\")\n",
    "    test_acc = accuracy_score(test_targets, test_preds)\n",
    "    print(f\"Test Accuracy: {test_acc}\")\n",
    "    return model"
   ]
  },
  {
   "cell_type": "markdown",
   "metadata": {},
   "source": [
    "# Simple NN with all features"
   ]
  },
  {
   "cell_type": "code",
   "execution_count": 19,
   "metadata": {},
   "outputs": [
    {
     "name": "stdout",
     "output_type": "stream",
     "text": [
      "Epoch: 0, Training Loss: 0.2596948689048126 Training Accuracy: 0.7868061903191256\n",
      "Epoch: 0, Validation Loss: 0.2468508350923774\n",
      "Epoch: 0, Validation Accuracy: 0.7948868133002497\n",
      "Epoch: 1, Training Loss: 0.24714747363689796 Training Accuracy: 0.7947842019108076\n",
      "Epoch: 1, Validation Loss: 0.24669657155568236\n",
      "Epoch: 1, Validation Accuracy: 0.7949755122171288\n",
      "Epoch: 2, Training Loss: 0.24701921578053393 Training Accuracy: 0.794836710629549\n",
      "Epoch: 2, Validation Loss: 0.2468234169324612\n",
      "Epoch: 2, Validation Accuracy: 0.7946818882164254\n",
      "Epoch: 3, Training Loss: 0.24696685841194274 Training Accuracy: 0.7947791039769492\n",
      "Epoch: 3, Validation Loss: 0.24656714979378458\n",
      "Epoch: 3, Validation Accuracy: 0.7950030394671947\n",
      "Epoch: 4, Training Loss: 0.24693179138331423 Training Accuracy: 0.7948254951750605\n",
      "Epoch: 4, Validation Loss: 0.24662770750656934\n",
      "Epoch: 4, Validation Accuracy: 0.7946933579039528\n",
      "Epoch: 5, Training Loss: 0.2468986513563636 Training Accuracy: 0.7948889644515974\n",
      "Epoch: 5, Validation Loss: 0.24640880214962788\n",
      "Epoch: 5, Validation Accuracy: 0.7950405071131179\n",
      "Epoch: 6, Training Loss: 0.24687586516328544 Training Accuracy: 0.7949226108150628\n",
      "Epoch: 6, Validation Loss: 0.2464856831633802\n",
      "Epoch: 6, Validation Accuracy: 0.7951047373632718\n",
      "Epoch: 7, Training Loss: 0.24685574925673778 Training Accuracy: 0.7948272794519109\n",
      "Epoch: 7, Validation Loss: 0.2464600768820594\n",
      "Epoch: 7, Validation Accuracy: 0.7950703283006894\n",
      "Epoch: 8, Training Loss: 0.24683462009456064 Training Accuracy: 0.79485863174514\n",
      "Epoch: 8, Validation Loss: 0.2464616553324489\n",
      "Epoch: 8, Validation Accuracy: 0.794980864737975\n",
      "Epoch: 9, Training Loss: 0.24683281034231186 Training Accuracy: 0.7949040033564797\n",
      "Epoch: 9, Validation Loss: 0.2465169118463713\n",
      "Epoch: 9, Validation Accuracy: 0.7950267434880849\n",
      "Test Loss: 0.23357828563087982\n",
      "Test Accuracy: 0.8066342237794536\n"
     ]
    }
   ],
   "source": [
    "simple_nn_model_all = train_nn_model(train_all_features, train_labels_nn, val_all_features, val_labels_nn, test_all_features, test_labels_nn)"
   ]
  },
  {
   "cell_type": "markdown",
   "metadata": {},
   "source": [
    "# Simple NN with no text"
   ]
  },
  {
   "cell_type": "code",
   "execution_count": 20,
   "metadata": {},
   "outputs": [
    {
     "name": "stdout",
     "output_type": "stream",
     "text": [
      "Epoch: 0, Training Loss: 0.5012048946417448 Training Accuracy: 0.6262979976845184\n",
      "Epoch: 0, Validation Loss: 0.48758292170197753\n",
      "Epoch: 0, Validation Accuracy: 0.6375074075065281\n",
      "Epoch: 1, Training Loss: 0.4881211643988006 Training Accuracy: 0.6365224138308985\n",
      "Epoch: 1, Validation Loss: 0.4874825818531204\n",
      "Epoch: 1, Validation Accuracy: 0.6375097014440336\n",
      "Epoch: 2, Training Loss: 0.48807044081498785 Training Accuracy: 0.6365326096986152\n",
      "Epoch: 2, Validation Loss: 0.48735783352911566\n",
      "Epoch: 2, Validation Accuracy: 0.6375127600273743\n",
      "Epoch: 3, Training Loss: 0.48804140798669765 Training Accuracy: 0.636527256868064\n",
      "Epoch: 3, Validation Loss: 0.4873656596003191\n",
      "Epoch: 3, Validation Accuracy: 0.637524994360737\n",
      "Epoch: 4, Training Loss: 0.4880201875354651 Training Accuracy: 0.6365320999052294\n",
      "Epoch: 4, Validation Loss: 0.48738639655993765\n",
      "Epoch: 4, Validation Accuracy: 0.6375158186107149\n",
      "Epoch: 5, Training Loss: 0.4880137402012104 Training Accuracy: 0.6365236883143631\n",
      "Epoch: 5, Validation Loss: 0.48730270245078955\n",
      "Epoch: 5, Validation Accuracy: 0.6375158186107149\n",
      "Epoch: 6, Training Loss: 0.4879921189118527 Training Accuracy: 0.6365221589342056\n",
      "Epoch: 6, Validation Loss: 0.4874403249116757\n",
      "Epoch: 6, Validation Accuracy: 0.6375158186107149\n",
      "Epoch: 7, Training Loss: 0.48799809034221603 Training Accuracy: 0.6365298058349932\n",
      "Epoch: 7, Validation Loss: 0.4872714367830697\n",
      "Epoch: 7, Validation Accuracy: 0.6375142893190446\n",
      "Epoch: 8, Training Loss: 0.48797771608406415 Training Accuracy: 0.636527256868064\n",
      "Epoch: 8, Validation Loss: 0.4873984765745291\n",
      "Epoch: 8, Validation Accuracy: 0.6375188771940556\n",
      "Epoch: 9, Training Loss: 0.4879801359362045 Training Accuracy: 0.6365318450085365\n",
      "Epoch: 9, Validation Loss: 0.4872900681782963\n",
      "Epoch: 9, Validation Accuracy: 0.6375219357773964\n",
      "Test Loss: 0.4883511275845887\n",
      "Test Accuracy: 0.6360154282139946\n"
     ]
    }
   ],
   "source": [
    "simple_nn_model_no_text = train_nn_model(train_wo_text, train_labels_nn, val_wo_text, val_labels_nn, test_wo_text, test_labels_nn)"
   ]
  },
  {
   "cell_type": "markdown",
   "metadata": {},
   "source": [
    "# Simple NN with no time"
   ]
  },
  {
   "cell_type": "code",
   "execution_count": 21,
   "metadata": {},
   "outputs": [
    {
     "name": "stdout",
     "output_type": "stream",
     "text": [
      "Epoch: 0, Training Loss: 0.2627308750777877 Training Accuracy: 0.7832921845105397\n",
      "Epoch: 0, Validation Loss: 0.24738906156009352\n",
      "Epoch: 0, Validation Accuracy: 0.794569485278656\n",
      "Epoch: 1, Training Loss: 0.24765096053418884 Training Accuracy: 0.7945662652383615\n",
      "Epoch: 1, Validation Loss: 0.24717924287994517\n",
      "Epoch: 1, Validation Accuracy: 0.7947071215289858\n",
      "Epoch: 2, Training Loss: 0.24756695194819278 Training Accuracy: 0.7945892059407242\n",
      "Epoch: 2, Validation Loss: 0.2472921999547403\n",
      "Epoch: 2, Validation Accuracy: 0.7946696538830628\n",
      "Epoch: 3, Training Loss: 0.24751859606245613 Training Accuracy: 0.7946587927378913\n",
      "Epoch: 3, Validation Loss: 0.247065265693575\n",
      "Epoch: 3, Validation Accuracy: 0.7948256416334364\n",
      "Epoch: 4, Training Loss: 0.24748712718206806 Training Accuracy: 0.7946019507753702\n",
      "Epoch: 4, Validation Loss: 0.24700903759595932\n",
      "Epoch: 4, Validation Accuracy: 0.7948661678627001\n",
      "Epoch: 5, Training Loss: 0.2474419282659857 Training Accuracy: 0.7946740865394665\n",
      "Epoch: 5, Validation Loss: 0.24698461107151795\n",
      "Epoch: 5, Validation Accuracy: 0.7948676971543706\n",
      "Epoch: 6, Training Loss: 0.24743920630757893 Training Accuracy: 0.7946412048660798\n",
      "Epoch: 6, Validation Loss: 0.2470276868072847\n",
      "Epoch: 6, Validation Accuracy: 0.7947958204458649\n",
      "Epoch: 7, Training Loss: 0.24742062699384132 Training Accuracy: 0.7946949880682858\n",
      "Epoch: 7, Validation Loss: 0.2474868077907204\n",
      "Epoch: 7, Validation Accuracy: 0.7946283630079638\n",
      "Epoch: 8, Training Loss: 0.2474025781645531 Training Accuracy: 0.7947214973243494\n",
      "Epoch: 8, Validation Loss: 0.24698956723504223\n",
      "Epoch: 8, Validation Accuracy: 0.7948669325085354\n",
      "Epoch: 9, Training Loss: 0.24738619977410004 Training Accuracy: 0.7946669494320647\n",
      "Epoch: 9, Validation Loss: 0.2470537627200379\n",
      "Epoch: 9, Validation Accuracy: 0.7947919972166891\n",
      "Test Loss: 0.23397599797293614\n",
      "Test Accuracy: 0.8062641179322401\n"
     ]
    }
   ],
   "source": [
    "simple_nn_model_no_time = train_nn_model(train_wo_time, train_labels_nn, val_wo_time, val_labels_nn, test_wo_time, test_labels_nn)"
   ]
  },
  {
   "cell_type": "markdown",
   "metadata": {},
   "source": [
    "# Simple NN with no verified"
   ]
  },
  {
   "cell_type": "code",
   "execution_count": 22,
   "metadata": {},
   "outputs": [
    {
     "name": "stdout",
     "output_type": "stream",
     "text": [
      "Epoch: 0, Training Loss: 0.25906937736590124 Training Accuracy: 0.7850642263197148\n",
      "Epoch: 0, Validation Loss: 0.2469348023661612\n",
      "Epoch: 0, Validation Accuracy: 0.7946994750706342\n",
      "Epoch: 1, Training Loss: 0.2472291721851567 Training Accuracy: 0.7945670299284403\n",
      "Epoch: 1, Validation Loss: 0.24679241901925286\n",
      "Epoch: 1, Validation Accuracy: 0.7947644699666232\n",
      "Epoch: 2, Training Loss: 0.2471121877105226 Training Accuracy: 0.7946952429649787\n",
      "Epoch: 2, Validation Loss: 0.2465952974576532\n",
      "Epoch: 2, Validation Accuracy: 0.7948967536961068\n",
      "Epoch: 3, Training Loss: 0.24705765156818082 Training Accuracy: 0.7947095171797822\n",
      "Epoch: 3, Validation Loss: 0.2468268869675008\n",
      "Epoch: 3, Validation Accuracy: 0.7946773003414144\n",
      "Epoch: 4, Training Loss: 0.24701350507382808 Training Accuracy: 0.7947541241010431\n",
      "Epoch: 4, Validation Loss: 0.2467491839646547\n",
      "Epoch: 4, Validation Accuracy: 0.79488834259192\n",
      "Epoch: 5, Training Loss: 0.24698558249870523 Training Accuracy: 0.7947100269731681\n",
      "Epoch: 5, Validation Loss: 0.24654647903822957\n",
      "Epoch: 5, Validation Accuracy: 0.7949105173211398\n",
      "Epoch: 6, Training Loss: 0.2469697266132697 Training Accuracy: 0.7947752805265554\n",
      "Epoch: 6, Validation Loss: 0.2466693809474578\n",
      "Epoch: 6, Validation Accuracy: 0.7947254730290297\n",
      "Epoch: 7, Training Loss: 0.24693811477972719 Training Accuracy: 0.7948277892452967\n",
      "Epoch: 7, Validation Loss: 0.246727134583515\n",
      "Epoch: 7, Validation Accuracy: 0.7948669325085354\n",
      "Epoch: 8, Training Loss: 0.24693430855185852 Training Accuracy: 0.7947714570761616\n",
      "Epoch: 8, Validation Loss: 0.24656286056799134\n",
      "Epoch: 8, Validation Accuracy: 0.7949357506337003\n",
      "Epoch: 9, Training Loss: 0.24691800102747058 Training Accuracy: 0.7948387498030923\n",
      "Epoch: 9, Validation Loss: 0.24664898704101967\n",
      "Epoch: 9, Validation Accuracy: 0.7948631092793595\n",
      "Test Loss: 0.23367629380946242\n",
      "Test Accuracy: 0.8065386385916402\n"
     ]
    }
   ],
   "source": [
    "simple_nn_model_no_verified = train_nn_model(train_wo_verified, train_labels_nn, val_wo_verified, val_labels_nn, test_wo_verified, test_labels_nn)"
   ]
  },
  {
   "cell_type": "markdown",
   "metadata": {},
   "source": [
    "# Simple NN with no vote"
   ]
  },
  {
   "cell_type": "code",
   "execution_count": 23,
   "metadata": {},
   "outputs": [
    {
     "name": "stdout",
     "output_type": "stream",
     "text": [
      "Epoch: 0, Training Loss: 0.26348079937764896 Training Accuracy: 0.7817900782991661\n",
      "Epoch: 0, Validation Loss: 0.2472878354535976\n",
      "Epoch: 0, Validation Accuracy: 0.7942812137987988\n",
      "Epoch: 1, Training Loss: 0.24753823735613165 Training Accuracy: 0.7941436465215013\n",
      "Epoch: 1, Validation Loss: 0.2470808015183104\n",
      "Epoch: 1, Validation Accuracy: 0.7943767945281944\n",
      "Epoch: 2, Training Loss: 0.2474189386829454 Training Accuracy: 0.7942876631530007\n",
      "Epoch: 2, Validation Loss: 0.24707672291425098\n",
      "Epoch: 2, Validation Accuracy: 0.7943393268822713\n",
      "Epoch: 3, Training Loss: 0.247389681979485 Training Accuracy: 0.7942160371822904\n",
      "Epoch: 3, Validation Loss: 0.24693435444518433\n",
      "Epoch: 3, Validation Accuracy: 0.7944372015491724\n",
      "Epoch: 4, Training Loss: 0.24734345519436923 Training Accuracy: 0.7942970943306388\n",
      "Epoch: 4, Validation Loss: 0.24693187068512368\n",
      "Epoch: 4, Validation Accuracy: 0.7943592076739856\n",
      "Epoch: 5, Training Loss: 0.24732267983366651 Training Accuracy: 0.7942117039385108\n",
      "Epoch: 5, Validation Loss: 0.24697024397353798\n",
      "Epoch: 5, Validation Accuracy: 0.794296506715502\n",
      "Epoch: 6, Training Loss: 0.24728570994386345 Training Accuracy: 0.7943225839999307\n",
      "Epoch: 6, Validation Loss: 0.24690473289556905\n",
      "Epoch: 6, Validation Accuracy: 0.7944318490283263\n",
      "Epoch: 7, Training Loss: 0.24729124035896238 Training Accuracy: 0.7943006628843396\n",
      "Epoch: 7, Validation Loss: 0.24704658054689846\n",
      "Epoch: 7, Validation Accuracy: 0.7942674501737658\n",
      "Epoch: 8, Training Loss: 0.24724758961597665 Training Accuracy: 0.7943445051155217\n",
      "Epoch: 8, Validation Loss: 0.2469757680835112\n",
      "Epoch: 8, Validation Accuracy: 0.7943745005906889\n",
      "Epoch: 9, Training Loss: 0.24725361918886668 Training Accuracy: 0.794286898462922\n",
      "Epoch: 9, Validation Loss: 0.2471426036296316\n",
      "Epoch: 9, Validation Accuracy: 0.7941955734652603\n",
      "Test Loss: 0.23412798240151203\n",
      "Test Accuracy: 0.8061325927138088\n"
     ]
    }
   ],
   "source": [
    "simple_nn_model_no_votes = train_nn_model(train_wo_votes, train_labels_nn, val_wo_votes, val_labels_nn, test_wo_votes, test_labels_nn)"
   ]
  },
  {
   "cell_type": "markdown",
   "metadata": {},
   "source": [
    "# Confusion Matrix"
   ]
  },
  {
   "cell_type": "code",
   "execution_count": 123,
   "metadata": {},
   "outputs": [
    {
     "data": {
      "text/plain": [
       "<sklearn.metrics._plot.confusion_matrix.ConfusionMatrixDisplay at 0x7f266cccb430>"
      ]
     },
     "execution_count": 123,
     "metadata": {},
     "output_type": "execute_result"
    },
    {
     "data": {
      "image/png": "[encoded data removed]",
      "text/plain": [
       "<Figure size 640x480 with 2 Axes>"
      ]
     },
     "metadata": {},
     "output_type": "display_data"
    }
   ],
   "source": [
    "# Confusion matrix\n",
    "from sklearn.metrics import confusion_matrix, ConfusionMatrixDisplay\n",
    "cm = confusion_matrix(test_labels, y_preds, normalize='true')\n",
    "disp = ConfusionMatrixDisplay(confusion_matrix=cm,display_labels=[1,2,3,4,5])\n",
    "disp.plot()"
   ]
  }
 ],
 "metadata": {
  "kernelspec": {
   "display_name": "Python [conda env:LLM]",
   "language": "python",
   "name": "conda-env-LLM-py"
  }
 },
 "nbformat": 4,
 "nbformat_minor": 2
}
