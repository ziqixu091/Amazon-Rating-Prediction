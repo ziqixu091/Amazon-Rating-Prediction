{
 "cells": [
  {
   "cell_type": "code",
   "execution_count": 2,
   "metadata": {},
   "outputs": [
    {
     "name": "stderr",
     "output_type": "stream",
     "text": [
      "/new-stg/home/banghua/anaconda3/envs/LLM/lib/python3.10/site-packages/tqdm/auto.py:21: TqdmWarning: IProgress not found. Please update jupyter and ipywidgets. See https://ipywidgets.readthedocs.io/en/stable/user_install.html\n",
      "  from .autonotebook import tqdm as notebook_tqdm\n",
      "2023-12-02 17:31:25.706535: I tensorflow/core/util/port.cc:113] oneDNN custom operations are on. You may see slightly different numerical results due to floating-point round-off errors from different computation orders. To turn them off, set the environment variable `TF_ENABLE_ONEDNN_OPTS=0`.\n",
      "2023-12-02 17:31:29.124309: E external/local_xla/xla/stream_executor/cuda/cuda_dnn.cc:9261] Unable to register cuDNN factory: Attempting to register factory for plugin cuDNN when one has already been registered\n",
      "2023-12-02 17:31:29.124358: E external/local_xla/xla/stream_executor/cuda/cuda_fft.cc:607] Unable to register cuFFT factory: Attempting to register factory for plugin cuFFT when one has already been registered\n",
      "2023-12-02 17:31:29.660676: E external/local_xla/xla/stream_executor/cuda/cuda_blas.cc:1515] Unable to register cuBLAS factory: Attempting to register factory for plugin cuBLAS when one has already been registered\n",
      "2023-12-02 17:31:30.529716: I tensorflow/core/platform/cpu_feature_guard.cc:182] This TensorFlow binary is optimized to use available CPU instructions in performance-critical operations.\n",
      "To enable the following instructions: AVX2 AVX512F AVX512_VNNI FMA, in other operations, rebuild TensorFlow with the appropriate compiler flags.\n",
      "2023-12-02 17:31:38.613199: W tensorflow/compiler/tf2tensorrt/utils/py_utils.cc:38] TF-TRT Warning: Could not find TensorRT\n"
     ]
    },
    {
     "name": "stdout",
     "output_type": "stream",
     "text": [
      "Loading BERT tokenizer...\n"
     ]
    }
   ],
   "source": [
    "import torch\n",
    "from transformers import BertTokenizer\n",
    "from datasets import Dataset\n",
    "import pathlib as pl\n",
    "import os\n",
    "os.chdir('/new-stg/home/banghua/Amazon-Rating-Prediction')\n",
    "from load_dataset import load_dataset\n",
    "from tqdm import tqdm\n",
    "import pickle\n",
    "import random\n",
    "random.seed(42)\n",
    "from transformers import AutoModelForSequenceClassification, Trainer, TrainingArguments\n",
    "from balanced_loss import Loss\n",
    "from datasets import load_metric\n",
    "import numpy as np\n",
    "\n",
    "def get_review_text(entry):\n",
    "    try:\n",
    "        return entry['reviewText']\n",
    "    except KeyError:\n",
    "        return ''\n",
    "\n",
    "\n",
    "def get_review_rating(entry):\n",
    "    try:\n",
    "        return entry['overall']\n",
    "    except KeyError:\n",
    "        return -1\n",
    "\n",
    "\n",
    "def build_dataset_dict(dataset, encoded_sentences):\n",
    "    dataset_dict = {\n",
    "        'orig_idx': [i for i in range(len(dataset))], # original index\n",
    "        'input_ids': encoded_sentences['input_ids'],\n",
    "        'attention_masks': encoded_sentences['attention_mask'],\n",
    "        'labels': [entry['overall'] for entry in dataset]\n",
    "    }\n",
    "    return dataset_dict\n",
    "\n",
    "\n",
    "def convert_to_list_from_big_dict(big_dict, big_dict_orig_idx, dataset):\n",
    "    list_of_dict = []\n",
    "    for i in range(len(big_dict['input_ids'])):\n",
    "        list_of_dict.append({\n",
    "            'orig_idx': big_dict_orig_idx[i],\n",
    "            'input_ids': big_dict['input_ids'][i],\n",
    "            'attention_masks': big_dict['attention_mask'][i],\n",
    "            'labels': int(dataset[big_dict_orig_idx[i]]['overall'] - 1)\n",
    "        })\n",
    "    return list_of_dict\n",
    "\n",
    "\n",
    "# Load the BERT tokenizer.\n",
    "print('Loading BERT tokenizer...')\n",
    "tokenizer = BertTokenizer.from_pretrained('LiYuan/amazon-review-sentiment-analysis')\n",
    "# 17,280 rows of training set 4,320 rows of dev set. test set: 2,400 rows.\n",
    "\n",
    "\n",
    "def get_encoded_sentences(sentences, file_path):\n",
    "    if os.path.exists(file_path):\n",
    "        encoded_sentences = torch.load(file_path)\n",
    "        print('Loaded input_ids.')\n",
    "    else:\n",
    "        encoded_sentences = tokenizer(sentences, add_special_tokens=True, padding=True, truncation=True, max_length=512, return_tensors='pt')\n",
    "        torch.save(encoded_sentences, file_path)\n",
    "        print('Saved input_ids.')\n",
    "    return encoded_sentences"
   ]
  },
  {
   "cell_type": "code",
   "execution_count": 3,
   "metadata": {},
   "outputs": [
    {
     "name": "stdout",
     "output_type": "stream",
     "text": [
      "There are 2 GPU(s) available.\n",
      "We will use the GPU: NVIDIA RTX A6000\n",
      "Loading dataset from /new-stg/home/banghua/Amazon-Rating-Prediction/dataset/train.json.gz...\n",
      "Loading dataset from /new-stg/home/banghua/Amazon-Rating-Prediction/dataset/val.json.gz...\n",
      "Loading dataset from /new-stg/home/banghua/Amazon-Rating-Prediction/dataset/test.json.gz...\n",
      "Number of empty reviewText in train dataset: 2331\n",
      "Number of empty reviewText in val dataset: 702\n",
      "Number of empty reviewText in test dataset: 763\n",
      "Number of training sentences: 3,925,489\n",
      "Number of validation sentences: 1,308,497\n",
      "Number of testing sentences: 1,308,497\n",
      "Loaded input_ids.\n",
      "Loaded input_ids.\n",
      "Loaded input_ids.\n"
     ]
    }
   ],
   "source": [
    "if torch.cuda.is_available():\n",
    "    device = torch.device(\"cuda\")\n",
    "    print('There are %d GPU(s) available.' % torch.cuda.device_count())\n",
    "    print('We will use the GPU:', torch.cuda.get_device_name())\n",
    "else:\n",
    "    print('No GPU available, using the CPU instead.')\n",
    "    device = torch.device(\"cpu\")\n",
    "\n",
    "\n",
    "current_path = pl.Path.cwd()\n",
    "\n",
    "train_path = current_path / 'dataset' / 'train.json.gz'\n",
    "val_path = current_path / 'dataset' / 'val.json.gz'\n",
    "test_path = current_path / 'dataset' / 'test.json.gz'\n",
    "\n",
    "train_dataset = load_dataset(train_path)\n",
    "val_dataset = load_dataset(val_path)\n",
    "test_dataset = load_dataset(test_path)\n",
    "\n",
    "train_dataset_orig_idx = [i for i in range(len(train_dataset))]\n",
    "val_dataset_orig_idx = [i for i in range(len(val_dataset))]\n",
    "test_dataset_orig_idx = [i for i in range(len(test_dataset))]\n",
    "\n",
    "\n",
    "# Get indices of entries with empty reviewText\n",
    "empty_train_indices = [i for i, entry in enumerate(train_dataset) if get_review_text(entry) == '']\n",
    "empty_val_indices = [i for i, entry in enumerate(val_dataset) if get_review_text(entry) == '']\n",
    "empty_test_indices = [i for i, entry in enumerate(test_dataset) if get_review_text(entry) == '']\n",
    "\n",
    "print('Number of empty reviewText in train dataset:', len(empty_train_indices))\n",
    "print('Number of empty reviewText in val dataset:', len(empty_val_indices))\n",
    "print('Number of empty reviewText in test dataset:', len(empty_test_indices))\n",
    "\n",
    "sentences_train = [get_review_text(entry) for entry in train_dataset]\n",
    "sentences_val = [get_review_text(entry) for entry in val_dataset]\n",
    "sentences_test = [get_review_text(entry) for entry in test_dataset]\n",
    "\n",
    "print('Number of training sentences: {:,}'.format(len(sentences_train)))\n",
    "print('Number of validation sentences: {:,}'.format(len(sentences_val)))\n",
    "print('Number of testing sentences: {:,}'.format(len(sentences_test)))\n",
    "\n",
    "# Correct the path by expanding the tilde to the user's home directory\n",
    "file_path_train = current_path / 'dataset' / 'input_ids' / 'input_ids_train.pickle'\n",
    "file_path_valid = current_path / 'dataset' / 'input_ids' / 'input_ids_valid.pickle'\n",
    "file_path_test = current_path / 'dataset' / 'input_ids' / 'input_ids_test.pickle'\n",
    "\n",
    "encoded_sentences_train = get_encoded_sentences(sentences_train, file_path_train)\n",
    "encoded_sentences_valid = get_encoded_sentences(sentences_val, file_path_valid)\n",
    "encoded_sentences_test = get_encoded_sentences(sentences_test, file_path_test)"
   ]
  },
  {
   "cell_type": "code",
   "execution_count": 4,
   "metadata": {},
   "outputs": [],
   "source": [
    "dataset_train_orig_kept_idx = [train_dataset_orig_idx[i] for i in range(len(train_dataset_orig_idx)) if i not in empty_train_indices]\n",
    "dataset_valid_orig_kept_idx = [val_dataset_orig_idx[i] for i in range(len(val_dataset_orig_idx)) if i not in empty_val_indices]\n",
    "dataset_test_orig_kept_idx = [test_dataset_orig_idx[i] for i in range(len(test_dataset_orig_idx)) if i not in empty_test_indices]"
   ]
  },
  {
   "cell_type": "code",
   "execution_count": 6,
   "metadata": {},
   "outputs": [],
   "source": [
    "encoded_sentences_train_dataset_dict = {key: value[dataset_train_orig_kept_idx] for key, value in encoded_sentences_train.items()}\n",
    "encoded_sentences_valid_dataset_dict = {key: value[dataset_valid_orig_kept_idx] for key, value in encoded_sentences_valid.items()}\n",
    "encoded_sentences_test_dataset_dict = {key: value[dataset_test_orig_kept_idx] for key, value in encoded_sentences_test.items()}"
   ]
  },
  {
   "cell_type": "code",
   "execution_count": 7,
   "metadata": {},
   "outputs": [],
   "source": [
    "# Convert encoded_sentences_train_downsampled to list of entries\n",
    "encoded_sentences_train_dataset_list = convert_to_list_from_big_dict(encoded_sentences_train_dataset_dict, dataset_train_orig_kept_idx, train_dataset)\n",
    "encoded_sentences_valid_dataset_list = convert_to_list_from_big_dict(encoded_sentences_valid_dataset_dict, dataset_valid_orig_kept_idx, val_dataset)\n",
    "encoded_sentences_test_dataset_list = convert_to_list_from_big_dict(encoded_sentences_test_dataset_dict, dataset_test_orig_kept_idx, test_dataset)"
   ]
  },
  {
   "cell_type": "code",
   "execution_count": 8,
   "metadata": {},
   "outputs": [],
   "source": [
    "# Build dataset\n",
    "dataset_train = Dataset.from_list(encoded_sentences_train_dataset_list)\n",
    "dataset_valid = Dataset.from_list(encoded_sentences_valid_dataset_list)\n",
    "dataset_test = Dataset.from_list(encoded_sentences_test_dataset_list)"
   ]
  },
  {
   "cell_type": "code",
   "execution_count": 10,
   "metadata": {},
   "outputs": [],
   "source": [
    "dataset_valid = Dataset.from_list(encoded_sentences_valid_dataset_list)\n",
    "dataset_test = Dataset.from_list(encoded_sentences_test_dataset_list)"
   ]
  },
  {
   "cell_type": "code",
   "execution_count": 11,
   "metadata": {},
   "outputs": [
    {
     "name": "stderr",
     "output_type": "stream",
     "text": [
      "Saving the dataset (17/17 shards): 100%|██████████████████████████████████████| 1307795/1307795 [01:26<00:00, 15068.29 examples/s]\n",
      "Saving the dataset (17/17 shards): 100%|██████████████████████████████████████| 1307734/1307734 [01:26<00:00, 15204.68 examples/s]\n"
     ]
    }
   ],
   "source": [
    "# Save datasets\n",
    "dataset_train.save_to_disk(current_path / 'dataset_huggingface_full' / 'train_dataset')\n",
    "dataset_valid.save_to_disk(current_path / 'dataset_huggingface_full' / 'valid_dataset')\n",
    "dataset_test.save_to_disk(current_path / 'dataset_huggingface_full' / 'test_dataset')"
   ]
  },
  {
   "cell_type": "code",
   "execution_count": null,
   "metadata": {},
   "outputs": [],
   "source": [
    "samples_per_class = [0] * 5\n",
    "for entry in dataset_train[\"labels\"]:\n",
    "    samples_per_class[entry] += 1\n",
    "\n",
    "\n",
    "model = AutoModelForSequenceClassification.from_pretrained(\"LiYuan/amazon-review-sentiment-analysis\", num_labels = 5)\n",
    "model.cuda()\n",
    "\n",
    "metric_name = \"accuracy\"\n",
    "print(metric_name)\n",
    "model_name = \"Amazon-Pet-BERT\"\n",
    "print(model_name)\n",
    "\n",
    "focal_loss = Loss(\n",
    "    loss_type=\"focal_loss\",\n",
    "    samples_per_class=samples_per_class,\n",
    "    class_balanced=True\n",
    ")\n",
    "\n",
    "actual_task = \"mnli\"\n",
    "metric = load_metric('glue', actual_task)"
   ]
  },
  {
   "cell_type": "code",
   "execution_count": 16,
   "metadata": {},
   "outputs": [
    {
     "data": {
      "text/plain": [
       "torch.Size([3925489, 512])"
      ]
     },
     "execution_count": 16,
     "metadata": {},
     "output_type": "execute_result"
    }
   ],
   "source": [
    "encoded_sentences_train[\"input_ids\"].shape"
   ]
  },
  {
   "cell_type": "code",
   "execution_count": 13,
   "metadata": {},
   "outputs": [
    {
     "data": {
      "text/plain": [
       "torch.Size([3923158, 512])"
      ]
     },
     "execution_count": 13,
     "metadata": {},
     "output_type": "execute_result"
    }
   ],
   "source": [
    "encoded_sentences_train[\"input_ids\"].shape"
   ]
  },
  {
   "cell_type": "code",
   "execution_count": null,
   "metadata": {},
   "outputs": [],
   "source": [
    "def compute_metrics(eval_pred):\n",
    "    logits, labels = eval_pred\n",
    "    predictions = np.argmax(logits, axis=-1)\n",
    "    return metric.compute(predictions=predictions, references=labels)\n",
    "\n",
    "\n",
    "class CustomTrainer(Trainer):\n",
    "    def compute_loss(self, model, inputs, return_outputs=False):\n",
    "        labels = inputs.pop(\"labels\").to(torch.int64)\n",
    "        # forward pass\n",
    "        outputs = model(**inputs)\n",
    "        logits = outputs.get(\"logits\")\n",
    "        # compute custom loss (suppose one has 3 labels with different weights)\n",
    "        loss_fct = focal_loss(logits, labels)\n",
    "        # loss = loss_fct(logits.view(-1, self.model.config.num_labels), labels.view(-1))\n",
    "        return (loss_fct, outputs) if return_outputs else loss_fct"
   ]
  },
  {
   "cell_type": "code",
   "execution_count": null,
   "metadata": {},
   "outputs": [],
   "source": [
    "batch_size = 32\n",
    "\n",
    "args = TrainingArguments(\n",
    "    f\"{model_name}-finetuned\",\n",
    "    evaluation_strategy = \"epoch\",\n",
    "    save_strategy = \"epoch\",\n",
    "    learning_rate=2e-5,\n",
    "    per_device_train_batch_size=batch_size,\n",
    "    per_device_eval_batch_size=batch_size,\n",
    "    num_train_epochs=2,\n",
    "    weight_decay=0.01,\n",
    "    load_best_model_at_end=True,\n",
    "    metric_for_best_model=metric_name,\n",
    "    logging_steps=100,\n",
    ")\n",
    "\n",
    "\n",
    "\n",
    "trainer = CustomTrainer(\n",
    "    model,\n",
    "    args,\n",
    "    train_dataset=dataset_test,\n",
    "    eval_dataset=dataset_valid,\n",
    "    tokenizer=tokenizer,\n",
    "    compute_metrics=compute_metrics\n",
    ")\n",
    "\n",
    "trainer.train()"
   ]
  }
 ],
 "metadata": {
  "kernelspec": {
   "display_name": "Python [conda env:LLM]",
   "language": "python",
   "name": "conda-env-LLM-py"
  },
  "language_info": {
   "codemirror_mode": {
    "name": "ipython",
    "version": 3
   },
   "file_extension": ".py",
   "mimetype": "text/x-python",
   "name": "python",
   "nbconvert_exporter": "python",
   "pygments_lexer": "ipython3",
   "version": "3.10.13"
  }
 },
 "nbformat": 4,
 "nbformat_minor": 2
}
